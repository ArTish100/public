{
  "nbformat": 4,
  "nbformat_minor": 0,
  "metadata": {
    "colab": {
      "provenance": [],
      "authorship_tag": "ABX9TyNsrI2BdezYAYK9wBjYo7tR",
      "include_colab_link": true
    },
    "kernelspec": {
      "name": "python3",
      "display_name": "Python 3"
    },
    "language_info": {
      "name": "python"
    }
  },
  "cells": [
    {
      "cell_type": "markdown",
      "metadata": {
        "id": "view-in-github",
        "colab_type": "text"
      },
      "source": [
        "<a href=\"https://colab.research.google.com/github/ArTish100/public/blob/main/RAKSHIT_SINGH.ipynb\" target=\"_parent\"><img src=\"https://colab.research.google.com/assets/colab-badge.svg\" alt=\"Open In Colab\"/></a>"
      ]
    },
    {
      "cell_type": "code",
      "metadata": {
        "id": "EV5vCOp37U_0",
        "colab": {
          "base_uri": "https://localhost:8080/"
        },
        "outputId": "c7307188-2765-41de-c9b2-7733a892ea06"
      },
      "source": [
        "#1\n",
        "def GetStory():\n",
        "  with open(\"STORY.TXT\",\"w\") as F:\n",
        "    while True:\n",
        "      T=input(\"Enter text : \")\n",
        "      F.write(T+\"\\n\")\n",
        "      if len(T)==0:\n",
        "        break\n",
        "def ViewStory():\n",
        "  with open(\"STORY.TXT\",\"r\") as F:\n",
        "    R=F.read()\n",
        "    print(R)\n",
        "while True:\n",
        "  print(\"G:GetStory V:Viewstory\")\n",
        "  Choice=input(\"Enter your choice:\")\n",
        "  if Choice==\"G\":\n",
        "    GetStory()\n",
        "  elif Choice==\"V\":\n",
        "    ViewStory()\n",
        "  else:\n",
        "    break\n"
      ],
      "execution_count": null,
      "outputs": [
        {
          "name": "stdout",
          "output_type": "stream",
          "text": [
            "G:GetStory V:Viewstory\n",
            "Enter your choice:G\n",
            "Enter text : Hello \n",
            "Enter text : How are you/\n",
            "Enter text : Fine\n",
            "Enter text : \n",
            "G:GetStory V:Viewstory\n",
            "Enter your choice:V\n",
            "Hello \n",
            "How are you/\n",
            "Fine\n",
            "\n",
            "\n",
            "G:GetStory V:Viewstory\n",
            "Enter your choice:\n"
          ]
        }
      ]
    }
  ]
}
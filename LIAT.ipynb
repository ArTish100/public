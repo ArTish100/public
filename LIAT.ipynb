{
  "nbformat": 4,
  "nbformat_minor": 0,
  "metadata": {
    "colab": {
      "provenance": [],
      "authorship_tag": "ABX9TyMR3dfwo7YrtebUXlJwIBx+",
      "include_colab_link": true
    },
    "kernelspec": {
      "name": "python3",
      "display_name": "Python 3"
    }
  },
  "cells": [
    {
      "cell_type": "markdown",
      "metadata": {
        "id": "view-in-github",
        "colab_type": "text"
      },
      "source": [
        "<a href=\"https://colab.research.google.com/github/ArTish100/public/blob/main/LIAT.ipynb\" target=\"_parent\"><img src=\"https://colab.research.google.com/assets/colab-badge.svg\" alt=\"Open In Colab\"/></a>"
      ]
    },
    {
      "cell_type": "code",
      "metadata": {
        "id": "uaOKyylyuTWt",
        "colab": {
          "base_uri": "https://localhost:8080/"
        },
        "outputId": "c3ae04f8-5d62-490c-818b-a31204c3dd06"
      },
      "source": [
        "from math import e\n",
        "for D in range(0,361):\n",
        "  R=D*pi/180\n",
        "  S=int(10*sin(R))\n",
        "  print((10+S)*\" \",'*')"
      ],
      "execution_count": null,
      "outputs": [
        {
          "output_type": "stream",
          "text": [
            "           *\n",
            "              *\n",
            "                *\n",
            "                   *\n",
            "                    *\n",
            "                     *\n",
            "                    *\n",
            "                   *\n",
            "                *\n",
            "              *\n",
            "           *\n",
            "        *\n",
            "      *\n",
            "   *\n",
            "  *\n",
            " *\n",
            "  *\n",
            "   *\n",
            "      *\n",
            "        *\n",
            "           *\n"
          ],
          "name": "stdout"
        }
      ]
    }
  ]
}
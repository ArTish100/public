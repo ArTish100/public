{
  "nbformat": 4,
  "nbformat_minor": 0,
  "metadata": {
    "colab": {
      "provenance": [],
      "authorship_tag": "ABX9TyO62jxnAJ8zWXQdvNTRWiU+",
      "include_colab_link": true
    },
    "kernelspec": {
      "name": "python3",
      "display_name": "Python 3"
    },
    "language_info": {
      "name": "python"
    }
  },
  "cells": [
    {
      "cell_type": "markdown",
      "metadata": {
        "id": "view-in-github",
        "colab_type": "text"
      },
      "source": [
        "<a href=\"https://colab.research.google.com/github/ArTish100/public/blob/main/Kimet.ipynb\" target=\"_parent\"><img src=\"https://colab.research.google.com/assets/colab-badge.svg\" alt=\"Open In Colab\"/></a>"
      ]
    },
    {
      "cell_type": "code",
      "metadata": {
        "colab": {
          "base_uri": "https://localhost:8080/"
        },
        "id": "GsLJfgiKzWXU",
        "outputId": "472da0e3-863e-4e6e-f78d-7b1bc69419cf"
      },
      "source": [
        "N=int(input(\"Enter N : \"))\n",
        "X=float(input(\"Enter X : \"))\n",
        "R=1\n",
        "print(\"First series : \")\n",
        "for i in range(1,N+1):\n",
        "  R*=X\n",
        "  print(R,end=\" + \")\n",
        "print()\n",
        "\n",
        "R=1;S=1\n",
        "print(\"Second series : \")\n",
        "for i in range(1,N+1):\n",
        "  R*=X\n",
        "  S*=i\n",
        "  T=R/S\n",
        "  print(T,end=\" + \")\n",
        "print()\n",
        "\n",
        "R=1;S=1\n",
        "print(\"Third series : \")\n",
        "for i in range(1,N+1):\n",
        "  R*=X\n",
        "  S*=i\n",
        "  T=R/S\n",
        "  if i%2!=0:\n",
        "    print(T,end=\" + \")\n"
      ],
      "execution_count": null,
      "outputs": [
        {
          "output_type": "stream",
          "text": [
            "Enter N : 10\n",
            "Enter X : 2\n",
            "First series : \n",
            "2.0 + 4.0 + 8.0 + 16.0 + 32.0 + 64.0 + 128.0 + 256.0 + 512.0 + 1024.0 + \n",
            "Second series : \n",
            "2.0 + 2.0 + 1.3333333333333333 + 0.6666666666666666 + 0.26666666666666666 + 0.08888888888888889 + 0.025396825396825397 + 0.006349206349206349 + 0.0014109347442680777 + 0.0002821869488536155 + \n",
            "Third series : \n",
            "2.0 + 1.3333333333333333 + 0.26666666666666666 + 0.025396825396825397 + 0.0014109347442680777 + "
          ],
          "name": "stdout"
        }
      ]
    }
  ]
}
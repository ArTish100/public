{
  "nbformat": 4,
  "nbformat_minor": 0,
  "metadata": {
    "colab": {
      "provenance": [],
      "authorship_tag": "ABX9TyMUMEefo6HOGwSmCdkLmgt7",
      "include_colab_link": true
    },
    "kernelspec": {
      "name": "python3",
      "display_name": "Python 3"
    },
    "language_info": {
      "name": "python"
    }
  },
  "cells": [
    {
      "cell_type": "markdown",
      "metadata": {
        "id": "view-in-github",
        "colab_type": "text"
      },
      "source": [
        "<a href=\"https://colab.research.google.com/github/ArTish100/public/blob/main/Xerxes.ipynb\" target=\"_parent\"><img src=\"https://colab.research.google.com/assets/colab-badge.svg\" alt=\"Open In Colab\"/></a>"
      ]
    },
    {
      "cell_type": "code",
      "metadata": {
        "colab": {
          "base_uri": "https://localhost:8080/"
        },
        "id": "idaTfIBuhdEX",
        "outputId": "9aa62dd4-723f-4ee3-84d4-ca23819466c8"
      },
      "source": [
        "def altswap(L):\n",
        "  A=len(L)\n",
        "  for i in range(0,L+1):\n",
        "    if i%2==0:\n",
        "      L[i]=L[i-1]\n",
        "    else:\n",
        "      L[i]=L[i+1]\n",
        "A=[1,2,3,4,5,6,7,8]\n",
        "print(A)"
      ],
      "execution_count": null,
      "outputs": [
        {
          "output_type": "stream",
          "text": [
            "[1, 2, 3, 4, 5, 6, 7, 8]\n"
          ],
          "name": "stdout"
        }
      ]
    },
    {
      "cell_type": "code",
      "metadata": {
        "colab": {
          "base_uri": "https://localhost:8080/"
        },
        "id": "g0TQrVzZjbt4",
        "outputId": "9f550a71-348b-414e-bad3-c337928b6573"
      },
      "source": [
        "def Cylinder(R,H):\n",
        "  A=2*3.14*R*(R+H)\n",
        "  V=(3.14)*(R**2)*H\n",
        "  return A,V\n",
        "R=float(input(\"Enter Radius: \"))\n",
        "H=float(input(\"Enter height: \"))\n",
        "A,V=Cylinder(R,H)\n",
        "print(\"Area:\",A)\n",
        "print(\"Volume:\",V)"
      ],
      "execution_count": null,
      "outputs": [
        {
          "output_type": "stream",
          "text": [
            "Enter Radius: 4\n",
            "Enter height: 8\n",
            "Area: 301.44\n",
            "Volume: 401.92\n"
          ],
          "name": "stdout"
        }
      ]
    },
    {
      "cell_type": "code",
      "metadata": {
        "id": "WFjl4A4CnRu4",
        "colab": {
          "base_uri": "https://localhost:8080/"
        },
        "outputId": "72fb0902-b173-4948-94df-d2166d060a60"
      },
      "source": [
        "def MODERATE(S,P):\n",
        "  N=len(S)\n",
        "  C=[]\n",
        "  D={\"I\":1}\n",
        "  for i in S:\n",
        "    B=S[i]+S[i]*(5%100)\n",
        "    C.append(B)\n",
        "  D.clear()\n",
        "  for i in S:\n",
        "    D[i]=S[i]\n",
        "  print(D)\n",
        "Stu={\"Raman\":80,\"Jaya\":45,\"Arun\":65,\"Tara\":98,\"Kanak\":75}\n",
        "MODERATE(Stu,5)"
      ],
      "execution_count": 11,
      "outputs": [
        {
          "output_type": "stream",
          "name": "stdout",
          "text": [
            "{'Raman': 80, 'Jaya': 45, 'Arun': 65, 'Tara': 98, 'Kanak': 75}\n"
          ]
        }
      ]
    },
    {
      "cell_type": "code",
      "metadata": {
        "colab": {
          "base_uri": "https://localhost:8080/"
        },
        "id": "31QOwNAkr8Pn",
        "outputId": "cc8f3d0c-4b2d-4ca6-ff25-af4da1ddc856"
      },
      "source": [
        "S={\"Raman\":80,\"Jaya\":45,\"Arun\":65,\"Tara\":98,\"Kanak\":75}\n",
        "B=[]\n",
        "Q={}\n",
        "for i in S:\n",
        "  A=S[i]\n",
        "  C=(105/100)*A\n",
        "  if C>100:\n",
        "    B.append(100)\n",
        "  else:\n",
        "    B.append(C)\n",
        "print(B)\n",
        "N=len(S)\n",
        "print(B[1])\n",
        "for i in S:\n",
        "  print(i,S[i])"
      ],
      "execution_count": 4,
      "outputs": [
        {
          "output_type": "stream",
          "name": "stdout",
          "text": [
            "[84.0, 47.25, 68.25, 100, 78.75]\n",
            "47.25\n",
            "Raman 80\n",
            "Jaya 45\n",
            "Arun 65\n",
            "Tara 98\n",
            "Kanak 75\n"
          ]
        }
      ]
    },
    {
      "cell_type": "code",
      "metadata": {
        "id": "YhK3DAiisOwI"
      },
      "source": [
        "STORY='Lines are done here'\n",
        "def Addtext():\n",
        "  with open('STORY.TXT','a') as a:\n",
        "    while True:\n",
        "      L=(\"Lines:\")\n",
        "      f.write(L+\"\\n\")\n",
        "      M=input(\"More(Y/N)\")\n",
        "      if M in['N','n']:\n",
        "        break"
      ],
      "execution_count": null,
      "outputs": []
    },
    {
      "cell_type": "code",
      "metadata": {
        "id": "7l1vY7lWtEGZ",
        "colab": {
          "base_uri": "https://localhost:8080/"
        },
        "outputId": "2bf5e7a0-b370-4507-949a-86b74b14bce5"
      },
      "source": [
        "from google.colab import drive\n",
        "drive.mount('/content/drive', force_remount=True)\n",
        "try:\n",
        "  with open('/content/drive/My Drive/Y.txt', 'a') as f:\n",
        "    f.write('abcdYYYYYabcdYYYY')\n",
        "    f.close()\n",
        "  with open('/content/drive/My Drive/Y.txt', 'r') as f:\n",
        "    L=f.readline()\n",
        "    print(L)\n",
        "\n",
        "except FileNotFoundError:\n",
        "  print(\"File not found\")"
      ],
      "execution_count": 28,
      "outputs": [
        {
          "output_type": "stream",
          "name": "stdout",
          "text": [
            "Mounted at /content/drive\n",
            "abcdYYYYYabcdYYYYabcdYYYYYabcdYYYYabcdYYYYYabcdYYYYabcdYYYYYabcdYYYYabcdYYYYYabcdYYYYabcdYYYYYabcdYYYY\n"
          ]
        }
      ]
    },
    {
      "cell_type": "code",
      "metadata": {
        "id": "Ilj9hhaIzrir"
      },
      "source": [
        "\n",
        "from google.colab import drive\n",
        "drive.mount('/content/drive')\n",
        ""
      ],
      "execution_count": null,
      "outputs": []
    },
    {
      "cell_type": "code",
      "metadata": {
        "colab": {
          "base_uri": "https://localhost:8080/"
        },
        "id": "wVXxw3eefLNE",
        "outputId": "0e70f462-f9f1-4597-f3fa-b783a7b3d38d"
      },
      "source": [
        "def Manip(K,L):\n",
        "  K+=2*L\n",
        "  L-=10\n",
        "  print(\"K:\",K,\"L:\",L)\n",
        "Manip(L=100,K=50)\n",
        "Manip(25,50)"
      ],
      "execution_count": 13,
      "outputs": [
        {
          "output_type": "stream",
          "name": "stdout",
          "text": [
            "K: 250 L: 90\n",
            "K: 125 L: 40\n"
          ]
        }
      ]
    },
    {
      "cell_type": "code",
      "metadata": {
        "colab": {
          "base_uri": "https://localhost:8080/"
        },
        "id": "VTTO3TyflaQM",
        "outputId": "e74421e7-f7ca-43ac-d494-33ebeacc5ca6"
      },
      "source": [
        "def Exec(A=50,B=25):\n",
        "  A+=B\n",
        "  B+=A\n",
        "  print(\"A->\",A,\"B->\",B)\n",
        "Exec()\n",
        "P=10;Q=100\n",
        "Exec(B=P,A=Q)\n",
        "Exec(B=P)"
      ],
      "execution_count": null,
      "outputs": [
        {
          "output_type": "stream",
          "text": [
            "A-> 75 B-> 100\n",
            "A-> 110 B-> 120\n",
            "A-> 60 B-> 70\n"
          ],
          "name": "stdout"
        }
      ]
    },
    {
      "cell_type": "code",
      "metadata": {
        "colab": {
          "base_uri": "https://localhost:8080/"
        },
        "id": "cngSMYXfqPGI",
        "outputId": "230f5d8c-8719-40f6-ddb8-e8176e1441c0"
      },
      "source": [
        "def VowelSplit(S):\n",
        "  for w in S:\n",
        "    if w.lower() in 'aeiou':\n",
        "      c=\"*\"\n",
        "    elif w==\" \":\n",
        "      c=\"\"\n",
        "    else:\n",
        "      c=w.upper() if w.islower() else w.lower()\n",
        "    print(end=c)\n",
        "Txt=\"we are the world\"\n",
        "VowelSplit(Txt)\n",
        "Txt=\"WE ARE TH CHILDREN\"\n",
        "VowelSplit(Txt)"
      ],
      "execution_count": null,
      "outputs": [
        {
          "output_type": "stream",
          "text": [
            "W**R*TH*W*RLDw**r*thch*ldr*n"
          ],
          "name": "stdout"
        }
      ]
    },
    {
      "cell_type": "code",
      "metadata": {
        "id": "V8TZoIRJyYOV"
      },
      "source": [
        "N=int(input(\"Enter N:\"))\n",
        "R=2\n",
        "if R==2:\n",
        "  print(R)\n",
        "  R=R+1\n",
        "X=1\n",
        "while X<N:\n",
        "  for i in range(2,R):\n",
        "    if R%i==0:\n",
        "      break\n",
        "  if R==i+1:\n",
        "    print(R)\n",
        "    X+=1\n",
        "  R=R+1\n"
      ],
      "execution_count": null,
      "outputs": []
    },
    {
      "cell_type": "code",
      "metadata": {
        "colab": {
          "base_uri": "https://localhost:8080/"
        },
        "id": "Gi0g9hKKewfc",
        "outputId": "21f3d749-6d13-48c8-900f-b53032094633"
      },
      "source": [
        "A=[11,22,33,44,55]\n",
        "l=len(A)\n",
        "#l=5 here and remains constant\n",
        "A[:l//2],A[len(A)//2:]=A[l//2:],A[:6//2]\n",
        "#In the above code if we consider only A[:l//2]=A[l//2:], then len(A) becomes 6\n",
        "print(A)"
      ],
      "execution_count": null,
      "outputs": [
        {
          "output_type": "stream",
          "text": [
            "[33, 44, 55, 11, 22, 33]\n"
          ],
          "name": "stdout"
        }
      ]
    },
    {
      "cell_type": "code",
      "metadata": {
        "colab": {
          "base_uri": "https://localhost:8080/"
        },
        "id": "Pidu2iMffV78",
        "outputId": "dab4e300-48ff-4feb-eccd-a9d12d5c9a0e"
      },
      "source": [
        "A=[1,2,3]\n",
        "B=[4,5]\n",
        "A,B=B,A\n",
        "print(A)\n",
        "print(B)"
      ],
      "execution_count": null,
      "outputs": [
        {
          "output_type": "stream",
          "text": [
            "[4, 5]\n",
            "[1, 2, 3]\n"
          ],
          "name": "stdout"
        }
      ]
    },
    {
      "cell_type": "code",
      "metadata": {
        "colab": {
          "base_uri": "https://localhost:8080/"
        },
        "id": "kz4ImnM2hzjM",
        "outputId": "1358753e-5b7a-49ed-9197-7fe8e3cf137b"
      },
      "source": [
        "A=[11,22,33,44,55]\n",
        "l=len(A)\n",
        "A[:l//2]=A[l//2:]\n",
        "print(A)"
      ],
      "execution_count": null,
      "outputs": [
        {
          "output_type": "stream",
          "text": [
            "[33, 44, 55, 33, 44, 55]\n"
          ],
          "name": "stdout"
        }
      ]
    },
    {
      "cell_type": "code",
      "metadata": {
        "colab": {
          "base_uri": "https://localhost:8080/"
        },
        "id": "_4UziB8yj760",
        "outputId": "d9daba24-5201-42e5-ac72-07b9e50e3dbc"
      },
      "source": [
        "A=[11,22,33,44,55]\n",
        "l=len(A)\n",
        "A[:l//2],A[len(A)//2:]=A[l//2:],A[:l//2]\n",
        "print(A)"
      ],
      "execution_count": null,
      "outputs": [
        {
          "output_type": "stream",
          "text": [
            "4\n",
            "5\n",
            "[33, 44, 11, 22]\n"
          ],
          "name": "stdout"
        }
      ]
    },
    {
      "cell_type": "code",
      "metadata": {
        "colab": {
          "base_uri": "https://localhost:8080/"
        },
        "id": "AJf9eESHwP1x",
        "outputId": "c914cb01-6e76-4131-9538-0e19de736832"
      },
      "source": [
        "A=[11,22,33,44,55]\n",
        "l=len(A)\n",
        "A[l//2:],A[:l//2]=A[:l//2],A[l//2:]\n",
        "print(A)"
      ],
      "execution_count": null,
      "outputs": [
        {
          "output_type": "stream",
          "text": [
            "[33, 44, 55, 11, 22]\n"
          ],
          "name": "stdout"
        }
      ]
    },
    {
      "cell_type": "code",
      "metadata": {
        "colab": {
          "base_uri": "https://localhost:8080/"
        },
        "id": "xFSBKV3kqMXC",
        "outputId": "a1a98767-b422-426f-b291-6d4cbf202ceb"
      },
      "source": [
        "A=[11,22,33,44,55]\n",
        "l=len(A)\n",
        "A[:l//2]=A[l//2:]\n",
        "A[len(A)//2:]=A[:len(A)//2]\n",
        "\n",
        "print(len(A))\n",
        "\n",
        "print(len(A))\n",
        "print(l)\n",
        "print(A)"
      ],
      "execution_count": null,
      "outputs": [
        {
          "output_type": "stream",
          "text": [
            "6\n",
            "6\n",
            "5\n",
            "[33, 44, 55, 33, 44, 55]\n"
          ],
          "name": "stdout"
        }
      ]
    },
    {
      "cell_type": "code",
      "metadata": {
        "colab": {
          "base_uri": "https://localhost:8080/"
        },
        "id": "h84vfESjqa7C",
        "outputId": "3d79e84e-b113-4a38-fda6-b6c8828e87d3"
      },
      "source": [
        "A=[11,22,33,44,55]\n",
        "l=len(A)\n",
        "print(l//2)\n",
        "print(len(A)//2)"
      ],
      "execution_count": null,
      "outputs": [
        {
          "output_type": "stream",
          "text": [
            "2\n",
            "2\n"
          ],
          "name": "stdout"
        }
      ]
    }
  ]
}
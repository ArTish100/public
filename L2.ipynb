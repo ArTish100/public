{
  "nbformat": 4,
  "nbformat_minor": 0,
  "metadata": {
    "colab": {
      "provenance": [],
      "authorship_tag": "ABX9TyOknCMI6U5+nNDPxQTDw5lf",
      "include_colab_link": true
    },
    "kernelspec": {
      "name": "python3",
      "display_name": "Python 3"
    },
    "language_info": {
      "name": "python"
    }
  },
  "cells": [
    {
      "cell_type": "markdown",
      "metadata": {
        "id": "view-in-github",
        "colab_type": "text"
      },
      "source": [
        "<a href=\"https://colab.research.google.com/github/ArTish100/public/blob/main/L2.ipynb\" target=\"_parent\"><img src=\"https://colab.research.google.com/assets/colab-badge.svg\" alt=\"Open In Colab\"/></a>"
      ]
    },
    {
      "cell_type": "code",
      "metadata": {
        "id": "7iXQ0lDA9yaH"
      },
      "source": [
        "E=[]\n",
        "M=[]\n",
        "T=[]\n",
        "for i in range(5):\n",
        "  EM=int(input(\"Enter marks for English : \"))\n",
        "  E.append(EM)\n",
        "for j in range(5):\n",
        "  MM=int(input(\"Enter marks for Maths : \"))\n",
        "  M.append(MM)\n",
        "print(E)\n",
        "print(M)\n",
        "for k in range(0,5):\n",
        "  P=E[k]+M[k]\n",
        "  T.append(P)\n",
        "print(T)\n",
        "print(min(E))\n",
        "print(min(M))\n",
        "print(min(T))\n",
        "print(max(E))\n",
        "print(max(M))\n",
        "print(max(T))\n",
        "print(sum(E)/2)\n",
        "print(sum(M)/2)\n",
        "print(sum(T)/2)"
      ],
      "execution_count": null,
      "outputs": []
    },
    {
      "cell_type": "code",
      "metadata": {
        "id": "IhZlsjaL-mjU"
      },
      "source": [
        "#Write a Python code to perform the following:\n",
        "#To initialize a list A=[10,20,30,40]\n",
        "#To initialize a list B=[35,25,15,45]\n",
        "#To create a list C to get the content from A and B as [10,35,20,25,30,15,40,45]\n",
        "#To display content of C\n",
        "A=[]\n",
        "B=[]\n",
        "C=[]\n",
        "for i in range(5):\n",
        "  P=A(i)\n",
        "  Q=B(i)\n",
        "  C.append(P)\n",
        "  C.append(Q)\n",
        "print(C)"
      ],
      "execution_count": null,
      "outputs": []
    },
    {
      "cell_type": "code",
      "metadata": {
        "id": "mbkABVNlD-nA"
      },
      "source": [
        "#Write a Python code with the following functions:\n",
        "#AddValues(L) - To add integer values entered by the user in the list L\n",
        "#DispValues(L) - To display values of L\n",
        "#RevContent(L) - To re-arrange content of L by reversing the order of values\n",
        "#AddEven(L) - To add all the even values of L and return the sum\n",
        "#AddOdd(L) - To add all the odd values of L and return the sum\n",
        "#AddZeroEnd(L) - To add all the values of L, which are ending with 0 and return the sum\n",
        "#Show7Ten(L) - To display those values of L, which have 7 at tens place\n",
        "#Show20_50(L) - To display those values of L, which are between 20 and 50\n",
        "def AddValues():\n",
        "  L=[]\n",
        "  while True:\n",
        "    A=int(input(\"Enter the integer value : \"))\n",
        "    B=input(\"Would you like to add more (Y:Yes/N:No) ? \")\n",
        "    L.append(A)\n",
        "    elif B==N:\n",
        "      break\n",
        "  print(A)\n",
        "print(L)\n"
      ],
      "execution_count": null,
      "outputs": []
    },
    {
      "cell_type": "code",
      "metadata": {
        "colab": {
          "base_uri": "https://localhost:8080/"
        },
        "id": "rplDJOmlrTHo",
        "outputId": "54bf6e8b-51a5-4180-f706-6eff77ea90b8"
      },
      "source": [
        "from google.colab import drive\n",
        "drive.mount('/content/drive/')\n"
      ],
      "execution_count": null,
      "outputs": [
        {
          "output_type": "stream",
          "text": [
            "Drive already mounted at /content/drive/; to attempt to forcibly remount, call drive.mount(\"/content/drive/\", force_remount=True).\n"
          ],
          "name": "stdout"
        }
      ]
    },
    {
      "cell_type": "code",
      "metadata": {
        "id": "8vmasjv4vI_l"
      },
      "source": [
        "def file():\n",
        "  with open(\"First.txt\",\"a\") as F:\n",
        "    A=input(\"Enter : \")\n",
        "    F.write(A)\n",
        "    B=F.read()\n",
        "    print(B)\n",
        ""
      ],
      "execution_count": null,
      "outputs": []
    },
    {
      "cell_type": "code",
      "metadata": {
        "colab": {
          "base_uri": "https://localhost:8080/",
          "height": 214
        },
        "id": "DZjE95IjxXVP",
        "outputId": "7625428c-6c3c-4425-8d40-e071ec5abcf1"
      },
      "source": [
        "from google.colab import files\n",
        "\n",
        "with open('Example.txt', 'a') as f:\n",
        "  f.write('some content')\n",
        "  C=f.read(5)\n",
        "  print(C)"
      ],
      "execution_count": null,
      "outputs": [
        {
          "output_type": "error",
          "ename": "UnsupportedOperation",
          "evalue": "ignored",
          "traceback": [
            "\u001b[0;31m---------------------------------------------------------------------------\u001b[0m",
            "\u001b[0;31mUnsupportedOperation\u001b[0m                      Traceback (most recent call last)",
            "\u001b[0;32m<ipython-input-20-be715a160d9f>\u001b[0m in \u001b[0;36m<module>\u001b[0;34m()\u001b[0m\n\u001b[1;32m      3\u001b[0m \u001b[0;32mwith\u001b[0m \u001b[0mopen\u001b[0m\u001b[0;34m(\u001b[0m\u001b[0;34m'Example.txt'\u001b[0m\u001b[0;34m,\u001b[0m \u001b[0;34m'a'\u001b[0m\u001b[0;34m)\u001b[0m \u001b[0;32mas\u001b[0m \u001b[0mf\u001b[0m\u001b[0;34m:\u001b[0m\u001b[0;34m\u001b[0m\u001b[0;34m\u001b[0m\u001b[0m\n\u001b[1;32m      4\u001b[0m   \u001b[0mf\u001b[0m\u001b[0;34m.\u001b[0m\u001b[0mwrite\u001b[0m\u001b[0;34m(\u001b[0m\u001b[0;34m'some content'\u001b[0m\u001b[0;34m)\u001b[0m\u001b[0;34m\u001b[0m\u001b[0;34m\u001b[0m\u001b[0m\n\u001b[0;32m----> 5\u001b[0;31m   \u001b[0mC\u001b[0m\u001b[0;34m=\u001b[0m\u001b[0mf\u001b[0m\u001b[0;34m.\u001b[0m\u001b[0mread\u001b[0m\u001b[0;34m(\u001b[0m\u001b[0;36m5\u001b[0m\u001b[0;34m)\u001b[0m\u001b[0;34m\u001b[0m\u001b[0;34m\u001b[0m\u001b[0m\n\u001b[0m\u001b[1;32m      6\u001b[0m   \u001b[0mprint\u001b[0m\u001b[0;34m(\u001b[0m\u001b[0mC\u001b[0m\u001b[0;34m)\u001b[0m\u001b[0;34m\u001b[0m\u001b[0;34m\u001b[0m\u001b[0m\n",
            "\u001b[0;31mUnsupportedOperation\u001b[0m: not readable"
          ]
        }
      ]
    }
  ]
}
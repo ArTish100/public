{
  "cells": [
    {
      "cell_type": "markdown",
      "metadata": {
        "id": "view-in-github",
        "colab_type": "text"
      },
      "source": [
        "<a href=\"https://colab.research.google.com/github/ArTish100/public/blob/main/Game.ipynb\" target=\"_parent\"><img src=\"https://colab.research.google.com/assets/colab-badge.svg\" alt=\"Open In Colab\"/></a>"
      ]
    },
    {
      "cell_type": "code",
      "execution_count": null,
      "metadata": {
        "colab": {
          "base_uri": "https://localhost:8080/"
        },
        "id": "GcrJLhtNHUNt",
        "outputId": "368149ce-fb17-40b0-b001-e48a81f19d9f"
      },
      "outputs": [
        {
          "output_type": "stream",
          "name": "stdout",
          "text": [
            "ENTER WORD PLAYER1 [LESS THAN 10 LETTER]: TWITTER\n",
            "\n",
            "\n",
            "\n",
            "\n",
            "\n",
            "\n",
            "\n",
            "\n",
            "\n",
            "\n",
            "\n",
            "\n",
            "\n",
            "\n",
            "\n",
            "\n",
            "\n",
            "\n",
            "\n",
            "\n",
            "\n",
            "\n",
            "\n",
            "\n",
            "\n",
            "\n",
            "\n",
            "\n",
            "\n",
            "\n",
            "\n",
            "\n",
            "\n",
            "\n",
            "\n",
            "\n",
            "\n",
            "\n",
            "\n",
            "\n",
            "\n",
            "HINT:__i__e_\n",
            "guess a letterL\n",
            "l does not match with any\n",
            "__i__e_\n",
            "guess a letterP\n",
            "p does not match with any\n",
            "__i__e_\n",
            "guess a letterA\n",
            "a does not match with any\n",
            "__i__e_\n",
            "guess a letterR\n",
            "r does not match with any\n",
            "__i__e_\n",
            "guess a letterV\n",
            "v does not match with any\n",
            "__i__e_\n",
            "guess a letterH\n",
            "h does not match with any\n",
            "__i__e_\n",
            "guess a letterL\n",
            "l does not match with any\n",
            "__i__e_\n",
            "guess a letterC\n",
            "c does not match with any\n",
            "__i__e_\n",
            "guess a letterT\n",
            "t does not match with any\n",
            "__i__e_\n"
          ]
        }
      ],
      "source": [
        "Str = input(\"ENTER WORD PLAYER1 [LESS THAN 10 LETTER]: \")\n",
        "if len(Str)< 10:\n",
        "    print('\\n'*40)\n",
        "    print(\"HINT:\",end='')\n",
        "    s=[]\n",
        "    GuessedStr=[]\n",
        "    for i in Str:\n",
        "        if i.upper() in 'AEIOU':\n",
        "            GuessedStr.append(i.lower())\n",
        "            s.append(i)\n",
        "        elif i.lower() in 'bcdfghjklmnpqrstvwxyz':\n",
        "            GuessedStr.append('_'.lower())\n",
        "            s.append(i)\n",
        "    print(''.join(GuessedStr))\n",
        "    for i in range(10):\n",
        "        UserInp=input(\"guess a letter\")\n",
        "        z=UserInp.lower()\n",
        "        if z not in s:\n",
        "            print(z, \"does not match with any\")\n",
        "        for j in range(len(s)):\n",
        "            if z == s[j]:\n",
        "                GuessedStr[j] = s[j]\n",
        "        print(''.join(GuessedStr).lower())\n",
        "        if GuessedStr == s:\n",
        "            print(\"You guessed it in\", i+1, \"tries\")\n",
        "            break\n",
        "    print(\"total score =\", 20 - (i+1))\n",
        "\n",
        "\n",
        "else:\n",
        "    print(\"RE-ENTER [NOT MORE THAN 10 LETTERS]\")"
      ]
    }
  ],
  "metadata": {
    "colab": {
      "provenance": [],
      "authorship_tag": "ABX9TyOWRLyatdaTKEkzTlVosaq5",
      "include_colab_link": true
    },
    "kernelspec": {
      "display_name": "Python 3",
      "name": "python3"
    }
  },
  "nbformat": 4,
  "nbformat_minor": 0
}
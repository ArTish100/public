{
  "nbformat": 4,
  "nbformat_minor": 0,
  "metadata": {
    "colab": {
      "provenance": [],
      "authorship_tag": "ABX9TyMFwR9txkfdrEC5gkJ2BsD0",
      "include_colab_link": true
    },
    "kernelspec": {
      "name": "python3",
      "display_name": "Python 3"
    },
    "language_info": {
      "name": "python"
    }
  },
  "cells": [
    {
      "cell_type": "markdown",
      "metadata": {
        "id": "view-in-github",
        "colab_type": "text"
      },
      "source": [
        "<a href=\"https://colab.research.google.com/github/ArTish100/public/blob/main/Untitled2.ipynb\" target=\"_parent\"><img src=\"https://colab.research.google.com/assets/colab-badge.svg\" alt=\"Open In Colab\"/></a>"
      ]
    },
    {
      "cell_type": "code",
      "metadata": {
        "id": "DUBvPqtyB7uy"
      },
      "source": [
        "#2\n",
        "def GetStory():\n",
        "  with open(\"STORY.TXT\",\"w\") as F:\n",
        "    while True:\n",
        "      T=input(\"Enter text : \")\n",
        "      F.write(T+\"\\n\")\n",
        "      if len(T)==0:\n",
        "        break\n",
        "def ViewStory():\n",
        "  I=1\n",
        "  with open(\"STORY.TXT\") as F:\n",
        "    while True:\n",
        "      R=F.read(I)\n",
        "      if R==\" \":\n",
        "        print()\n",
        "      I+=1\n",
        "      print(R)\n",
        "while True:\n",
        "  print(\"G:GetStory V:Viewstory\")\n",
        "  Choice=input(\"Enter your choice:\")\n",
        "  if Choice==\"G\":\n",
        "    GetStory()\n",
        "  elif Choice==\"V\":\n",
        "    ViewStory()\n",
        "  else:\n",
        "    break"
      ],
      "execution_count": null,
      "outputs": []
    },
    {
      "cell_type": "code",
      "metadata": {
        "id": "KQ591rkfDs1J"
      },
      "source": [
        "def GetStory():\n",
        "  with open(\"STORY.TXT\",\"w\") as F:\n",
        "    while True:\n",
        "      T=input(\"Enter text : \")\n",
        "      F.write(T+\"\\n\")\n",
        "      if len(T)==0:\n",
        "        break\n",
        "def ViewStory():\n",
        "  I=1\n",
        "  with open(\"STORY.TXT\") as F:\n",
        "    while True:\n",
        "      R=F.read(I)\n",
        "      print(R)\n",
        "\n",
        "while True:\n",
        "  print(\"G:GetStory V:Viewstory\")\n",
        "  Choice=input(\"Enter your choice:\")\n",
        "  if Choice==\"G\":\n",
        "    GetStory()\n",
        "  elif Choice==\"V\":\n",
        "    ViewStory()\n",
        "  else:\n",
        "    break"
      ],
      "execution_count": null,
      "outputs": []
    },
    {
      "cell_type": "code",
      "metadata": {
        "id": "ZNWILm5REiT9"
      },
      "source": [
        "#3\n",
        "def GetStory():\n",
        "  with open(\"STORY.TXT\",\"w\") as F:\n",
        "    while True:\n",
        "      T=input(\"Enter text : \")\n",
        "      F.write(T+\"\\n\")\n",
        "      if len(T)==0:\n",
        "        break\n",
        "def ViewStory():\n",
        "  I=1\n",
        "  with open(\"STORY.TXT\") as F:\n",
        "    L=len(F)\n",
        "    for i in range(0,L):\n",
        "      R=F.read(I)\n",
        "      if R!=\" \":\n",
        "        I+=1\n",
        "      print(R)\n",
        "    print(I)\n",
        "while True:\n",
        "  print(\"G:GetStory V:Viewstory\")\n",
        "  Choice=input(\"Enter your choice:\")\n",
        "  if Choice==\"G\":\n",
        "    GetStory()\n",
        "  elif Choice==\"V\":\n",
        "    ViewStory()\n",
        "  else:\n",
        "    break"
      ],
      "execution_count": null,
      "outputs": []
    }
  ]
}
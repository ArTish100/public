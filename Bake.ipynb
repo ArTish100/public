{
  "nbformat": 4,
  "nbformat_minor": 0,
  "metadata": {
    "colab": {
      "provenance": [],
      "authorship_tag": "ABX9TyNAkZamEyiZs5PXhhwKplNX",
      "include_colab_link": true
    },
    "kernelspec": {
      "name": "python3",
      "display_name": "Python 3"
    }
  },
  "cells": [
    {
      "cell_type": "markdown",
      "metadata": {
        "id": "view-in-github",
        "colab_type": "text"
      },
      "source": [
        "<a href=\"https://colab.research.google.com/github/ArTish100/public/blob/main/Bake.ipynb\" target=\"_parent\"><img src=\"https://colab.research.google.com/assets/colab-badge.svg\" alt=\"Open In Colab\"/></a>"
      ]
    },
    {
      "cell_type": "code",
      "metadata": {
        "colab": {
          "base_uri": "https://localhost:8080/"
        },
        "id": "PVmHNS7NHVI6",
        "outputId": "7c5f0a3d-bad5-4265-c056-5171e5f87a32"
      },
      "source": [
        "N=[]\n",
        "for i in range(8):\n",
        "  L=input(\"Enter item no. : \")\n",
        "  N.append(L)\n",
        "print(\"Original content :\",N)\n",
        "Order=[1,0,3,2,5,4,7,6]\n",
        "N=[N[i] for i in Order]\n",
        "print(\"Modified content :\",N)\n",
        "for i in range(0,4):\n",
        "  X=int(N[2*i])+int(N[2*i+1])\n",
        "  print(N[2*i],\"+\",N[2*i+1],\"=\",X)"
      ],
      "execution_count": null,
      "outputs": [
        {
          "output_type": "stream",
          "text": [
            "Enter item no. : 1\n",
            "Enter item no. : 2\n",
            "Enter item no. : 3\n",
            "Enter item no. : 4\n",
            "Enter item no. : 5\n",
            "Enter item no. : 6\n",
            "Enter item no. : 7\n",
            "Enter item no. : 8\n",
            "Original content : ['1', '2', '3', '4', '5', '6', '7', '8']\n",
            "Modified content : ['2', '1', '4', '3', '6', '5', '8', '7']\n",
            "2 + 1 = 3\n",
            "4 + 3 = 7\n",
            "6 + 5 = 11\n",
            "8 + 7 = 15\n"
          ],
          "name": "stdout"
        }
      ]
    }
  ]
}